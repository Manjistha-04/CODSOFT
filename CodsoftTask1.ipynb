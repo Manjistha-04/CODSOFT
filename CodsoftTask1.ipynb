{
 "cells": [
  {
   "cell_type": "code",
   "execution_count": 1,
   "id": "2a694c93-3b8b-4787-a054-5845fb66e618",
   "metadata": {},
   "outputs": [
    {
     "name": "stdout",
     "output_type": "stream",
     "text": [
      "\n",
      "--- To-Do List Menu ---\n",
      "1. Add a task\n",
      "2. View all tasks\n",
      "3. Update a task\n",
      "4. Delete a task\n",
      "5. Exit\n"
     ]
    },
    {
     "name": "stdin",
     "output_type": "stream",
     "text": [
      "Choose an option (1-5):  1\n",
      "Enter the task description:  i have to sleep at 9.30\n"
     ]
    },
    {
     "name": "stdout",
     "output_type": "stream",
     "text": [
      "\"i have to sleep at 9.30\" has been added to your to-do list.\n",
      "\n",
      "--- To-Do List Menu ---\n",
      "1. Add a task\n",
      "2. View all tasks\n",
      "3. Update a task\n",
      "4. Delete a task\n",
      "5. Exit\n"
     ]
    },
    {
     "name": "stdin",
     "output_type": "stream",
     "text": [
      "Choose an option (1-5):  1\n",
      "Enter the task description:  need to cook on sunday\n"
     ]
    },
    {
     "name": "stdout",
     "output_type": "stream",
     "text": [
      "\"need to cook on sunday\" has been added to your to-do list.\n",
      "\n",
      "--- To-Do List Menu ---\n",
      "1. Add a task\n",
      "2. View all tasks\n",
      "3. Update a task\n",
      "4. Delete a task\n",
      "5. Exit\n"
     ]
    },
    {
     "name": "stdin",
     "output_type": "stream",
     "text": [
      "Choose an option (1-5):  2\n"
     ]
    },
    {
     "name": "stdout",
     "output_type": "stream",
     "text": [
      "\n",
      "Your Tasks:\n",
      "1. i have to sleep at 9.30\n",
      "2. need to cook on sunday\n",
      "\n",
      "--- To-Do List Menu ---\n",
      "1. Add a task\n",
      "2. View all tasks\n",
      "3. Update a task\n",
      "4. Delete a task\n",
      "5. Exit\n"
     ]
    },
    {
     "name": "stdin",
     "output_type": "stream",
     "text": [
      "Choose an option (1-5):  4\n"
     ]
    },
    {
     "name": "stdout",
     "output_type": "stream",
     "text": [
      "\n",
      "Your Tasks:\n",
      "1. i have to sleep at 9.30\n",
      "2. need to cook on sunday\n"
     ]
    },
    {
     "name": "stdin",
     "output_type": "stream",
     "text": [
      "Enter the task number to delete:  2\n"
     ]
    },
    {
     "name": "stdout",
     "output_type": "stream",
     "text": [
      "\"need to cook on sunday\" has been removed from your to-do list.\n",
      "\n",
      "--- To-Do List Menu ---\n",
      "1. Add a task\n",
      "2. View all tasks\n",
      "3. Update a task\n",
      "4. Delete a task\n",
      "5. Exit\n"
     ]
    },
    {
     "name": "stdin",
     "output_type": "stream",
     "text": [
      "Choose an option (1-5):  5\n"
     ]
    },
    {
     "name": "stdout",
     "output_type": "stream",
     "text": [
      "Goodbye!\n"
     ]
    },
    {
     "ename": "SystemExit",
     "evalue": "",
     "output_type": "error",
     "traceback": [
      "An exception has occurred, use %tb to see the full traceback.\n",
      "\u001b[1;31mSystemExit\u001b[0m\n"
     ]
    },
    {
     "name": "stderr",
     "output_type": "stream",
     "text": [
      "D:\\anaconda\\Lib\\site-packages\\IPython\\core\\interactiveshell.py:3585: UserWarning: To exit: use 'exit', 'quit', or Ctrl-D.\n",
      "  warn(\"To exit: use 'exit', 'quit', or Ctrl-D.\", stacklevel=1)\n"
     ]
    }
   ],
   "source": [
    "import sys\n",
    "tasks = []\n",
    "def show_menu():\n",
    "    print(\"\\n--- To-Do List Menu ---\")\n",
    "    print(\"1. Add a task\")\n",
    "    print(\"2. View all tasks\")\n",
    "    print(\"3. Update a task\")\n",
    "    print(\"4. Delete a task\")\n",
    "    print(\"5. Exit\")\n",
    "\n",
    "def add_task():\n",
    "    task = input(\"Enter the task description: \")\n",
    "    tasks.append(task)\n",
    "    print(f'\"{task}\" has been added to your to-do list.')\n",
    "\n",
    "def view_tasks():\n",
    "    if not tasks:\n",
    "        print(\"Your to-do list is empty.\")\n",
    "    else:\n",
    "        print(\"\\nYour Tasks:\")\n",
    "        for idx, task in enumerate(tasks, start=1):\n",
    "            print(f\"{idx}. {task}\")\n",
    "\n",
    "def update_task():\n",
    "    view_tasks()\n",
    "    if tasks:\n",
    "        try:\n",
    "            task_num = int(input(\"Enter the task number to update: \"))\n",
    "            if 1 <= task_num <= len(tasks):\n",
    "                new_task = input(\"Enter the new description: \")\n",
    "                old_task = tasks[task_num - 1]\n",
    "                tasks[task_num - 1] = new_task\n",
    "                print(f'Task \"{old_task}\" updated to \"{new_task}\".')\n",
    "            else:\n",
    "                print(\"Invalid task number.\")\n",
    "        except ValueError:\n",
    "            print(\"Please enter a valid number.\")\n",
    "\n",
    "def delete_task():\n",
    "    view_tasks()\n",
    "    if tasks:\n",
    "        try:\n",
    "            task_num = int(input(\"Enter the task number to delete: \"))\n",
    "            if 1 <= task_num <= len(tasks):\n",
    "                removed_task = tasks.pop(task_num - 1)\n",
    "                print(f'\"{removed_task}\" has been removed from your to-do list.')\n",
    "            else:\n",
    "                print(\"Invalid task number.\")\n",
    "        except ValueError:\n",
    "            print(\"Please enter a valid number.\")\n",
    "\n",
    "def main():\n",
    "    while True:\n",
    "        show_menu()\n",
    "        choice = input(\"Choose an option (1-5): \")\n",
    "\n",
    "        if choice == '1':\n",
    "            add_task()\n",
    "        elif choice == '2':\n",
    "            view_tasks()\n",
    "        elif choice == '3':\n",
    "            update_task()\n",
    "        elif choice == '4':\n",
    "            delete_task()\n",
    "        elif choice == '5':\n",
    "            print(\"Goodbye!\")\n",
    "            sys.exit()\n",
    "        else:\n",
    "            print(\"Invalid choice. Please enter a number from 1 to 5.\")\n",
    "\n",
    "if __name__ == \"__main__\":\n",
    "    main()\n"
   ]
  },
  {
   "cell_type": "code",
   "execution_count": null,
   "id": "17e5aa3c-7d77-42fc-8025-713a4b1e95a9",
   "metadata": {},
   "outputs": [],
   "source": []
  }
 ],
 "metadata": {
  "kernelspec": {
   "display_name": "Python [conda env:base] *",
   "language": "python",
   "name": "conda-base-py"
  },
  "language_info": {
   "codemirror_mode": {
    "name": "ipython",
    "version": 3
   },
   "file_extension": ".py",
   "mimetype": "text/x-python",
   "name": "python",
   "nbconvert_exporter": "python",
   "pygments_lexer": "ipython3",
   "version": "3.12.7"
  }
 },
 "nbformat": 4,
 "nbformat_minor": 5
}
